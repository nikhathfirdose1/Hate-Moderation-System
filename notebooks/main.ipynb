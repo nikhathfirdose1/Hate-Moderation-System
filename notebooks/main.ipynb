{
 "cells": [
  {
   "cell_type": "code",
   "execution_count": 2,
   "metadata": {},
   "outputs": [
    {
     "name": "stderr",
     "output_type": "stream",
     "text": [
      "/Users/spartan/Projects/masters/course257/context-based-hate-moderation/.venv/lib/python3.9/site-packages/tqdm/auto.py:21: TqdmWarning: IProgress not found. Please update jupyter and ipywidgets. See https://ipywidgets.readthedocs.io/en/stable/user_install.html\n",
      "  from .autonotebook import tqdm as notebook_tqdm\n"
     ]
    }
   ],
   "source": [
    "# imports\n",
    "import dspy\n",
    "import os\n",
    "from dotenv import load_dotenv"
   ]
  },
  {
   "cell_type": "code",
   "execution_count": 3,
   "metadata": {},
   "outputs": [
    {
     "data": {
      "text/plain": [
       "True"
      ]
     },
     "execution_count": 3,
     "metadata": {},
     "output_type": "execute_result"
    }
   ],
   "source": [
    "load_dotenv('../local.env')"
   ]
  },
  {
   "cell_type": "code",
   "execution_count": 4,
   "metadata": {},
   "outputs": [
    {
     "name": "stdout",
     "output_type": "stream",
     "text": [
      "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\n"
     ]
    }
   ],
   "source": [
    "print(os.environ['GROQ_API_KEY'])\n",
    "GROQ_MODEL_LARGE = os.environ['GROQ_MODEL_LARGE']"
   ]
  },
  {
   "cell_type": "code",
   "execution_count": 5,
   "metadata": {},
   "outputs": [
    {
     "data": {
      "text/plain": [
       "'llama-3.1-70b-versatile'"
      ]
     },
     "execution_count": 5,
     "metadata": {},
     "output_type": "execute_result"
    }
   ],
   "source": [
    "GROQ_MODEL_LARGE"
   ]
  },
  {
   "cell_type": "code",
   "execution_count": 6,
   "metadata": {},
   "outputs": [],
   "source": [
    "llm = dspy.OllamaLocal(\n",
    "        model=\"llama3.2:3b\",\n",
    "        model_type='text',\n",
    "        max_tokens=1000,\n",
    "        temperature=0.1,\n",
    "        top_p=0.8,\n",
    "        frequency_penalty=1.17,\n",
    "        top_k=40\n",
    "    )\n",
    "dspy.configure(lm=llm, temperature=0)"
   ]
  },
  {
   "cell_type": "code",
   "execution_count": 7,
   "metadata": {},
   "outputs": [],
   "source": [
    "class ContextHateAnalysis(dspy.Signature):\n",
    "    \"\"\"\n",
    "    Using the context and the comment, understand the whole meaning of the message and tell me if the comment conveys hate or not. \n",
    "    There are certain conditions to be considered before determining if the comment is hateful or not.\n",
    "    - The comment might or might not contain the hatefull words.\n",
    "    - If the comment contains the hatefull words, it might not be hateful. Its just the word used in a posive context and never conveyed hateful message.\n",
    "    - Even if the comment doesnt contain hatefull words in it, it doesnt mean it is not hateful. The comment might be hateful in a way that it is conveying with just non hateful words.\n",
    "    - Sarcasm and irony are also to be considered as hate.\n",
    "    - Classify as hateful if the comment is conveying hate even a little. Answer sensitively.\n",
    "    \n",
    "    Understand the whole context and determine the result.\n",
    "    \n",
    "    Output if the comment is Hateful or not. \"True\" if hateful, \"False\" if not hateful.\n",
    "    \"\"\"\n",
    "\n",
    "    comment: str = dspy.InputField()\n",
    "    context: str = dspy.InputField()\n",
    "    output = dspy.OutputField(\n",
    "        desc=\"\"\"Strictly Tell \"True\" if hateful, \"False\" if not hateful.\"\"\",\n",
    "    )"
   ]
  },
  {
   "cell_type": "code",
   "execution_count": 8,
   "metadata": {},
   "outputs": [],
   "source": [
    "class ContextHateExplaination(dspy.Signature):\n",
    "    \"\"\"\n",
    "    Using the context and the comment, understand the whole meaning of the message and tell me if the comment conveys hate or not. \n",
    "    There are certain conditions to be considered before determining if the comment is hateful or not.\n",
    "    - The comment might or might not contain the hatefull words.\n",
    "    - If the comment contains the hatefull words, it might not be hateful. Its just the word used in a posive context and never conveyed hateful message.\n",
    "    - Even if the comment doesnt contain hatefull words in it, it doesnt mean it is not hateful. The comment might be hateful in a way that it is conveying with just non hateful words.\n",
    "    - Unserstand the sarcasm and irony in the comment. Sometimes the comment might be sarcastic and not hateful.\n",
    "    \n",
    "    Understand the whole context and determine the result. There might be simple terms which can still portray hate.\n",
    "    \n",
    "    Tell \"False\" if not hateful. \n",
    "    If hateful, provide the warning message in a format: \"The comment is hateful as it is targetting [specific person/group/community] in a [specific way].\"\n",
    "    \"\"\"\n",
    "\n",
    "    comment: str = dspy.InputField()\n",
    "    context: str = dspy.InputField()\n",
    "    output = dspy.OutputField(\n",
    "        desc=\"\"\"Strictly Tell \"False\" if not hateful. If hateful, provide the warning message.\"\"\",\n",
    "    )"
   ]
  },
  {
   "cell_type": "code",
   "execution_count": 12,
   "metadata": {},
   "outputs": [
    {
     "name": "stdout",
     "output_type": "stream",
     "text": [
      "The comment is hateful as it is targeting [specific person/group/community] (in this case the celebrity)\n"
     ]
    }
   ],
   "source": [
    "result = dspy.ChainOfThought(ContextHateExplaination, max_retries=3).forward(\n",
    "    context=\"Common man to a celebrity\",\n",
    "    comment=\"I hate him\",\n",
    ")\n",
    "output = result.output\n",
    "print(result.output)"
   ]
  },
  {
   "cell_type": "code",
   "execution_count": 10,
   "metadata": {},
   "outputs": [
    {
     "name": "stdout",
     "output_type": "stream",
     "text": [
      "False\n"
     ]
    }
   ],
   "source": [
    "result = dspy.ChainOfThought(ContextHateExplaination, max_retries=3).forward(\n",
    "    context=\"That was a great movie\",\n",
    "    comment=\"They killed it.\",\n",
    ")\n",
    "# output1 = result2.output\n",
    "print(result.output)"
   ]
  },
  {
   "cell_type": "code",
   "execution_count": 24,
   "metadata": {},
   "outputs": [],
   "source": [
    "import ollama\n",
    "\n",
    "def check_if_hateful(hateful_comment, context):\n",
    "    prompt = f\"\"\"\n",
    "    Analyze the following statement: '{hateful_comment}' in the context of '{context}'.\n",
    "    Determine if this comment can be considered hateful, offensive, or harmful within this specific social, cultural, political, or sensitive context. \n",
    "    Take into account how different communities (e.g., racial, religious, gender-based, or marginalized groups) might perceive this comment based on their lived experiences or historical sensitivities.\n",
    "    \n",
    "    Additionally:\n",
    "    - Consider whether the comment contains sarcasm and whether that sarcasm changes its intent to something non-hateful in this context.\n",
    "    - Be aware that certain phrases (e.g., 'They killed it' in a sports context) may appear harmful but are actually harmless or positive depending on the context. \n",
    "    - Pay special attention to idiomatic expressions or colloquialisms that are commonly used in specific contexts (e.g., sports, entertainment) and do not convey hate.\n",
    "\n",
    "    If the comment is not hateful in this context, respond with 'This comment is not considered hateful in this context.'\n",
    "    If the comment is hateful, respond with 'This comment is considered hateful.'\n",
    "    \"\"\"\n",
    "    \n",
    "    response = ollama.chat(\n",
    "        model=\"llama2:13b\",  \n",
    "        messages=[{\"role\": \"user\", \"content\": prompt}]\n",
    "    )\n",
    "    \n",
    "    result = response[\"message\"][\"content\"]\n",
    "    \n",
    "\n",
    "    if \"considered hateful\" in result.lower():\n",
    "        return True\n",
    "    elif \"not considered hateful\" in result.lower():\n",
    "        return False\n",
    "    else:\n",
    "        return None  # Handle unexpected responses gracefully\n",
    "\n",
    "\n",
    "input_comment = \"They Killed It!\"\n",
    "input_context = \"Sports Game\"\n",
    "\n",
    "result = check_if_hateful(input_comment, input_context)\n",
    "\n",
    "if result is False:\n",
    "    print(\"This comment is not considered hateful in this context.\")\n",
    "else:\n",
    "    print(\"This comment is considered hateful.\")"
   ]
  },
  {
   "cell_type": "code",
   "execution_count": 21,
   "metadata": {},
   "outputs": [],
   "source": [
    "def generate_contextual_warning(hateful_comment, context):\n",
    "   \n",
    "    prompt = f\"\"\"  \n",
    "    Analyze the following statement '{hateful_comment}' in the context of f'{context}'. \n",
    "    Even if the statement does not contain explicit offensive language, evaluate how it could be interpreted as hurtful or offensive within this specific social, cultural, political, or sensitive context. \n",
    "    Focus on how it could affect one or two specific communities (e.g., racial, ethnic, religious, gender-based, or other marginalized groups) based on their historical experiences or societal challenges.\n",
    "    Consider how these communities might interpret the comment through the lens of their lived experiences, including issues like systemic discrimination, stereotypes, or cultural sensitivities.\n",
    "    If applicable, generate a concise warning message explaining why this statement could lead to negative consequences (e.g., public backlash or reputational harm) and hurt the sentiments of these specific groups.\n",
    "    \n",
    "    Understand the whole context and determine the result. There might be simple terms which can still portray hate.\n",
    "    \n",
    "    Tell \"False\" if not hateful. \n",
    "    If hateful, provide the warning message in a format: \n",
    "    'This statement can hurt the sentiments of [inferred group/community]. Please avoid using such language to prevent misunderstandings or public backlash.'\n",
    "    \"\"\"\n",
    "    \n",
    "    \n",
    "    response = ollama.chat(\n",
    "        model=\"llama2:13b\",  \n",
    "        messages=[{\"role\": \"user\", \"content\": prompt}]\n",
    "    )\n",
    "    \n",
    "    return response[\"message\"][\"content\"]"
   ]
  },
  {
   "cell_type": "code",
   "execution_count": 22,
   "metadata": {},
   "outputs": [
    {
     "name": "stdout",
     "output_type": "stream",
     "text": [
      "Warning: \n",
      "In the context of a sports game, the statement \"They Killed It!\" could be interpreted as hurtful or offensive towards certain marginalized communities. Here are two specific communities that might be affected:\n",
      "\n",
      "1. Racial and Ethnic Minorities: The phrase \"killed it\" can be seen as a metaphor for violence, which could perpetuate harmful stereotypes about people of color, particularly in the context of sports. For example, black athletes might be expected to be more aggressive or physically dominant, while Asian athletes might be perceived as weaker or less skilled. This can contribute to systemic racism and discrimination, both on and off the field.\n",
      "2. Religious Minorities: The phrase \"They Killed It!\" could also be interpreted as glorifying violence, which might be particularly problematic for religious communities that value peace and nonviolence. For example, Muslim athletes might feel marginalized or excluded if they are expected to conform to a more aggressive or violent sports culture.\n",
      "\n",
      "Both of these communities might interpret the statement \"They Killed It!\" through the lens of their lived experiences, including issues like systemic discrimination, stereotypes, and cultural sensitivities. They might perceive the phrase as reinforcing harmful stereotypes or glorifying violence, which could lead to negative consequences such as public backlash or reputational harm.\n",
      "\n",
      "Therefore, it's important to avoid using language that could be interpreted as hurtful or offensive, especially in a sports context where inclusivity and respect for all athletes should be paramount. A concise warning message might be:\n",
      "\n",
      "\"This statement can perpetuate negative stereotypes and glorify violence, which can harm the sentiments of marginalized communities. Please avoid using such language to promote inclusivity and respect for all athletes.\"\n",
      "\n",
      "Result: False (the statement is hateful and could be perceived as perpetuating negative stereotypes and glorifying violence).\n"
     ]
    }
   ],
   "source": [
    "input_comment = \"They Killed It!\"\n",
    "input_context = \"Sports Game\"\n",
    "\n",
    "\n",
    "result = check_if_hateful(input_comment, input_context)\n",
    "\n",
    "\n",
    "# if result is True:\n",
    "#     print(\"The comment is hateful.\")\n",
    "if result is False:\n",
    "        print(\"This comment is not considered hateful in this context.\")\n",
    "else:\n",
    "        warning_message = generate_contextual_warning(input_comment, input_context)\n",
    "        print(f\"Warning: {warning_message}\")\n"
   ]
  },
  {
   "cell_type": "code",
   "execution_count": null,
   "metadata": {},
   "outputs": [],
   "source": []
  }
 ],
 "metadata": {
  "kernelspec": {
   "display_name": ".venv",
   "language": "python",
   "name": "python3"
  },
  "language_info": {
   "codemirror_mode": {
    "name": "ipython",
    "version": 3
   },
   "file_extension": ".py",
   "mimetype": "text/x-python",
   "name": "python",
   "nbconvert_exporter": "python",
   "pygments_lexer": "ipython3",
   "version": "3.13.0"
  }
 },
 "nbformat": 4,
 "nbformat_minor": 2
}
