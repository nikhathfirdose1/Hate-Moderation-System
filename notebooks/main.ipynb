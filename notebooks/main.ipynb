{
 "cells": [
  {
   "cell_type": "code",
   "execution_count": 1,
   "metadata": {},
   "outputs": [
    {
     "name": "stderr",
     "output_type": "stream",
     "text": [
      "/Users/spartan/Projects/masters/course257/context-based-hate-moderation/.venv/lib/python3.9/site-packages/tqdm/auto.py:21: TqdmWarning: IProgress not found. Please update jupyter and ipywidgets. See https://ipywidgets.readthedocs.io/en/stable/user_install.html\n",
      "  from .autonotebook import tqdm as notebook_tqdm\n"
     ]
    }
   ],
   "source": [
    "# imports\n",
    "import dspy\n",
    "import os\n",
    "from dotenv import load_dotenv"
   ]
  },
  {
   "cell_type": "code",
   "execution_count": 2,
   "metadata": {},
   "outputs": [
    {
     "data": {
      "text/plain": [
       "True"
      ]
     },
     "execution_count": 2,
     "metadata": {},
     "output_type": "execute_result"
    }
   ],
   "source": [
    "load_dotenv('../local.env')"
   ]
  },
  {
   "cell_type": "code",
   "execution_count": 3,
   "metadata": {},
   "outputs": [
    {
     "name": "stdout",
     "output_type": "stream",
     "text": [
      "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\n"
     ]
    }
   ],
   "source": [
    "print(os.environ['GROQ_API_KEY'])\n",
    "GROQ_MODEL_LARGE = os.environ['GROQ_MODEL_LARGE']"
   ]
  },
  {
   "cell_type": "code",
   "execution_count": 4,
   "metadata": {},
   "outputs": [
    {
     "data": {
      "text/plain": [
       "'llama-3.1-70b-versatile'"
      ]
     },
     "execution_count": 4,
     "metadata": {},
     "output_type": "execute_result"
    }
   ],
   "source": [
    "GROQ_MODEL_LARGE"
   ]
  },
  {
   "cell_type": "code",
   "execution_count": 5,
   "metadata": {},
   "outputs": [],
   "source": [
    "llm = dspy.LM(model=f\"groq/{GROQ_MODEL_LARGE}\", max_tokens=8000, cache=False)\n",
    "dspy.configure(lm=llm, temperature=0)"
   ]
  },
  {
   "cell_type": "code",
   "execution_count": 6,
   "metadata": {},
   "outputs": [],
   "source": [
    "class ContextHateAnalysis(dspy.Signature):\n",
    "    \"\"\"\n",
    "    Using the context and the comment, understand the whole meaning of the message and tell me if the comment conveys hate or not. \n",
    "    There are certain conditions to be considered before determining if the comment is hateful or not.\n",
    "    - The comment might or might not contain the hatefull words.\n",
    "    - If the comment contains the hatefull words, it might not be hateful. Its just the word used in a posive context and never conveyed hateful message.\n",
    "    - Even if the comment doesnt contain hatefull words in it, it doesnt mean it is not hateful. The comment might be hateful in a way that it is conveying with just non hateful words.\n",
    "    - Sarcasm and irony are also to be considered as hate.\n",
    "    - Classify as hateful if the comment is conveying hate even a little. Answer sensitively.\n",
    "    \n",
    "    Understand the whole context and determine the result.\n",
    "    \n",
    "    Output if the comment is Hateful or not. \"True\" if hateful, \"False\" if not hateful.\n",
    "    \"\"\"\n",
    "\n",
    "    comment: str = dspy.InputField()\n",
    "    context: str = dspy.InputField()\n",
    "    output = dspy.OutputField(\n",
    "        desc=\"\"\"Strictly Tell \"True\" if hateful, \"False\" if not hateful.\"\"\",\n",
    "    )"
   ]
  },
  {
   "cell_type": "code",
   "execution_count": 16,
   "metadata": {},
   "outputs": [],
   "source": [
    "class ContextHateExplaination(dspy.Signature):\n",
    "    \"\"\"\n",
    "    Using the context and the comment, understand the whole meaning of the message and tell me if the comment conveys hate or not. \n",
    "    There are certain conditions to be considered before determining if the comment is hateful or not.\n",
    "    - The comment might or might not contain the hatefull words.\n",
    "    - If the comment contains the hatefull words, it might not be hateful. Its just the word used in a posive context and never conveyed hateful message.\n",
    "    - Even if the comment doesnt contain hatefull words in it, it doesnt mean it is not hateful. The comment might be hateful in a way that it is conveying with just non hateful words.\n",
    "    - Unserstand the sarcasm and irony in the comment. Sometimes the comment might be sarcastic and not hateful.\n",
    "    \n",
    "    Understand the whole context and determine the result. There might be simple terms which can still portray hate.\n",
    "    \n",
    "    Tell \"False\" if not hateful. \n",
    "    If hateful, provide the warning message in a format: \"The comment is hateful as it is targetting [specific person/group/community] in a [specific way].\"\n",
    "    \"\"\"\n",
    "\n",
    "    comment: str = dspy.InputField()\n",
    "    context: str = dspy.InputField()\n",
    "    output = dspy.OutputField(\n",
    "        desc=\"\"\"Strictly Tell \"False\" if not hateful. If hateful, provide the warning message.\"\"\",\n",
    "    )"
   ]
  },
  {
   "cell_type": "code",
   "execution_count": 17,
   "metadata": {},
   "outputs": [
    {
     "name": "stdout",
     "output_type": "stream",
     "text": [
      "False\n"
     ]
    }
   ],
   "source": [
    "result = dspy.ChainOfThought(ContextHateExplaination, max_retries=3).forward(\n",
    "    context=\"\",\n",
    "    comment=\"I dont like him.\",\n",
    ")\n",
    "output = result.output\n",
    "print(result.output)"
   ]
  },
  {
   "cell_type": "code",
   "execution_count": 18,
   "metadata": {},
   "outputs": [
    {
     "name": "stdout",
     "output_type": "stream",
     "text": [
      "False\n"
     ]
    }
   ],
   "source": [
    "result = dspy.ChainOfThought(ContextHateExplaination, max_retries=3).forward(\n",
    "    context=\"That was a great movie\",\n",
    "    comment=\"They killed it.\",\n",
    ")\n",
    "# output1 = result2.output\n",
    "print(result.output)"
   ]
  }
 ],
 "metadata": {
  "kernelspec": {
   "display_name": ".venv",
   "language": "python",
   "name": "python3"
  },
  "language_info": {
   "codemirror_mode": {
    "name": "ipython",
    "version": 3
   },
   "file_extension": ".py",
   "mimetype": "text/x-python",
   "name": "python",
   "nbconvert_exporter": "python",
   "pygments_lexer": "ipython3",
   "version": "3.9.20"
  }
 },
 "nbformat": 4,
 "nbformat_minor": 2
}
